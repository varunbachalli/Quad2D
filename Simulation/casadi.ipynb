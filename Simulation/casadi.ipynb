{
 "cells": [
  {
   "cell_type": "code",
   "execution_count": 3,
   "metadata": {},
   "outputs": [],
   "source": [
    "from casadi import *\n",
    "import numpy as np\n"
   ]
  },
  {
   "cell_type": "code",
   "execution_count": 4,
   "metadata": {},
   "outputs": [],
   "source": [
    "# create a very simply ode example.\n",
    "# solution using direct collocation.\n",
    "# F = m * x'' \n",
    "# states = x and x'\n",
    "# matrix form equation - \n",
    "# d/dt (xdot) = F / m\n",
    "# d/dt (x) = xdot\n",
    "\n",
    "N = 10 # number of intermediate steps\n",
    "\n",
    "x_ = MX.sym(\"x\") # position\n",
    "dx = MX.sym(\"dx\") # velocity\n",
    "x = vertcat(dx, x_)\n",
    "\n",
    "F = MX.sym(\"F\") # Force\n",
    "T = MX.sym(\"T\") # final time\n",
    "\n",
    "m = 1\n",
    "start = np.zeros(2) # start at 0,0\n",
    "end = np.array([2,0]) # end at 2,0\n",
    "\n",
    "W = dx**2 + F**2\n",
    "xdot = vertcat(np.sin(F/m), dx)\n",
    "hk = T/N\n"
   ]
  },
  {
   "cell_type": "code",
   "execution_count": 107,
   "metadata": {},
   "outputs": [],
   "source": [
    "f = Function('f', [x, F], [xdot],['xk','F'],['f_k'])\n",
    "W = Function('w', [x,F], [W], ['x', 'F'], [\"wk\"])\n"
   ]
  },
  {
   "cell_type": "code",
   "execution_count": 108,
   "metadata": {},
   "outputs": [
    {
     "data": {
      "text/plain": [
       "DM([1, 2])"
      ]
     },
     "execution_count": 108,
     "metadata": {},
     "output_type": "execute_result"
    }
   ],
   "source": [
    "v= f(xk=[2,0], F= 1)\n",
    "v['f_k']"
   ]
  },
  {
   "cell_type": "code",
   "execution_count": 109,
   "metadata": {},
   "outputs": [],
   "source": [
    "w = [] # optimization variables.\n",
    "w0 = [] # initial conditions.\n",
    "lbw = [] # lower bound w.\n",
    "ubw = [] # upper bound 2.\n",
    "J = 0 # total cost.\n",
    "g = [] # constraints.\n",
    "lbg = [] # lower bound constraints.\n",
    "ubg = [] # upper bound constraints."
   ]
  },
  {
   "cell_type": "code",
   "execution_count": 110,
   "metadata": {},
   "outputs": [
    {
     "name": "stdout",
     "output_type": "stream",
     "text": [
      "This is Ipopt version 3.12.3, running with linear solver mumps.\n",
      "NOTE: Other linear solvers might be more efficient (see Ipopt documentation).\n",
      "\n",
      "Number of nonzeros in equality constraint Jacobian...:       84\n",
      "Number of nonzeros in inequality constraint Jacobian.:        0\n",
      "Number of nonzeros in Lagrangian Hessian.............:       36\n",
      "\n",
      "Total number of variables............................:       27\n",
      "                     variables with only lower bounds:        0\n",
      "                variables with lower and upper bounds:       11\n",
      "                     variables with only upper bounds:        0\n",
      "Total number of equality constraints.................:       18\n",
      "Total number of inequality constraints...............:        0\n",
      "        inequality constraints with only lower bounds:        0\n",
      "   inequality constraints with lower and upper bounds:        0\n",
      "        inequality constraints with only upper bounds:        0\n",
      "\n",
      "iter    objective    inf_pr   inf_du lg(mu)  ||d||  lg(rg) alpha_du alpha_pr  ls\n",
      "   0  2.0705672e+02 4.00e-01 1.49e+01  -1.0 0.00e+00    -  0.00e+00 0.00e+00   0\n",
      "   1  2.7197636e+02 1.19e-01 1.50e+02  -1.0 1.99e+00    -  6.93e-01 1.00e+00h  1\n",
      "   2  2.6207243e+02 1.00e-01 1.26e+02  -1.0 8.03e-01    -  8.74e-01 1.56e-01f  1\n",
      "   3  2.3675292e+02 5.33e-03 8.61e+00  -1.0 2.31e-01    -  1.00e+00 1.00e+00f  1\n",
      "   4  2.3532891e+02 1.90e-05 5.68e-02  -1.0 2.39e-02    -  1.00e+00 1.00e+00f  1\n",
      "   5  2.3440205e+02 9.70e-05 8.94e-03  -2.5 1.29e-01    -  9.92e-01 1.00e+00f  1\n",
      "   6  2.3434232e+02 1.81e-06 2.19e-04  -3.8 2.94e-02    -  1.00e+00 1.00e+00f  1\n",
      "   7  2.3433994e+02 2.73e-09 3.28e-07  -5.7 1.15e-03    -  1.00e+00 1.00e+00h  1\n",
      "   8  2.3433992e+02 8.76e-14 8.76e-12  -8.6 5.05e-06    -  1.00e+00 1.00e+00h  1\n",
      "\n",
      "Number of Iterations....: 8\n",
      "\n",
      "                                   (scaled)                 (unscaled)\n",
      "Objective...............:   2.2619683695376625e+02    2.3433992308410183e+02\n",
      "Dual infeasibility......:   8.7615300781055682e-12    9.0769451609173689e-12\n",
      "Constraint violation....:   8.7596596642924851e-14    8.7596596642924851e-14\n",
      "Complementarity.........:   2.5210898157647088e-09    2.6118490491322383e-09\n",
      "Overall NLP error.......:   2.5210898157647088e-09    2.6118490491322383e-09\n",
      "\n",
      "\n",
      "Number of objective function evaluations             = 9\n",
      "Number of objective gradient evaluations             = 9\n",
      "Number of equality constraint evaluations            = 9\n",
      "Number of inequality constraint evaluations          = 0\n",
      "Number of equality constraint Jacobian evaluations   = 9\n",
      "Number of inequality constraint Jacobian evaluations = 0\n",
      "Number of Lagrangian Hessian evaluations             = 8\n",
      "Total CPU secs in IPOPT (w/o function evaluations)   =      0.004\n",
      "Total CPU secs in NLP function evaluations           =      0.001\n",
      "\n",
      "EXIT: Optimal Solution Found.\n",
      "      solver  :   t_proc      (avg)   t_wall      (avg)    n_eval\n",
      "       nlp_f  |  76.00us (  8.44us)  75.66us (  8.41us)         9\n",
      "       nlp_g  |  96.00us ( 10.67us)  95.59us ( 10.62us)         9\n",
      "  nlp_grad_f  | 182.00us ( 18.20us) 189.43us ( 18.94us)        10\n",
      "  nlp_hess_l  | 766.00us ( 95.75us) 768.70us ( 96.09us)         8\n",
      "   nlp_jac_g  | 344.00us ( 34.40us) 313.80us ( 31.38us)        10\n",
      "       total  |   7.66ms (  7.66ms)   6.81ms (  6.81ms)         1\n"
     ]
    }
   ],
   "source": [
    "# Nonlinear program description.\n",
    "# initial value constraint\n",
    "\n",
    "\n",
    "Xk = MX.sym('X_0', 2)\n",
    "Fk = MX.sym('F_0', 1)\n",
    "\n",
    "w += [Xk, Fk]\n",
    "w0 += [0, 0, 2]\n",
    "lbw += [0, 0, -2.0]\n",
    "ubw += [0, 0, 2.0]\n",
    "\n",
    "for i in range(N - 1):\n",
    "    Xk_1 = MX.sym(f'X_{i + 1}', 2)\n",
    "    Fk_1 = MX.sym(f'F_{i + 1}', 1)\n",
    "    J += 0.5 * hk * (W(x = Xk, F= Fk)['wk'] + W(x = Xk_1, F= Fk_1)['wk'])\n",
    "\n",
    "    # Add equality constraint\n",
    "    g   += [Xk_1-Xk - 0.5*hk *(f(xk=Xk, F= Fk)['f_k'] + f(xk=Xk_1, F= Fk_1)['f_k'])]\n",
    "    lbg += [0, 0]\n",
    "    ubg += [0, 0]\n",
    "    Xk = Xk_1\n",
    "    Fk = Fk_1\n",
    "    w += [Xk, Fk]\n",
    "    Force0 = 2 if i < (N - 2)//2 else -2\n",
    "    w0 += [0, (i + 1)*2/N, Force0]\n",
    "    if(i == N - 2):\n",
    "        lbw += [0, 2, -2.0]\n",
    "        ubw += [0, 2, 2.0]\n",
    "    else:\n",
    "        lbw += [-float('inf'), -float('inf'), -2.0]\n",
    "        ubw += [float('inf'), float('inf'), 2.0]\n",
    "\n",
    "\n",
    "\n",
    "w += [T]\n",
    "w0 += [2]\n",
    "lbw += [0.1]\n",
    "ubw += [10]\n",
    "\n",
    "\n",
    "prob = {'f': J + 100 * T, 'x': vertcat(*w), 'g': vertcat(*g)}\n",
    "solver = nlpsol('solver', 'ipopt', prob)\n",
    "sol = solver(x0=w0, lbx=lbw, ubx=ubw, lbg=lbg, ubg=ubg)\n",
    "w_opt = sol['x'].full().flatten()\n",
    "    "
   ]
  },
  {
   "cell_type": "code",
   "execution_count": 111,
   "metadata": {},
   "outputs": [],
   "source": [
    "v0 = w0[0:-1:3]\n",
    "pos0 = w0[1:-1:3]\n",
    "F0_ = w0[2:-1:3]"
   ]
  },
  {
   "cell_type": "code",
   "execution_count": 112,
   "metadata": {},
   "outputs": [],
   "source": [
    "v = w_opt[0:-1:3]\n",
    "pos = w_opt[1:-1:3]\n",
    "F_ = w_opt[2:-1:3]\n"
   ]
  },
  {
   "cell_type": "code",
   "execution_count": 113,
   "metadata": {},
   "outputs": [],
   "source": [
    "import matplotlib.pyplot as plt\n",
    "\n",
    "%matplotlib inline"
   ]
  },
  {
   "cell_type": "code",
   "execution_count": 114,
   "metadata": {},
   "outputs": [
    {
     "data": {
      "text/plain": [
       "[<matplotlib.lines.Line2D at 0x7f9735e93310>]"
      ]
     },
     "execution_count": 114,
     "metadata": {},
     "output_type": "execute_result"
    },
    {
     "data": {
      "image/png": "[encoded data removed]",
      "text/plain": [
       "<Figure size 432x288 with 1 Axes>"
      ]
     },
     "metadata": {
      "needs_background": "light"
     },
     "output_type": "display_data"
    }
   ],
   "source": [
    "plt.plot(v)"
   ]
  },
  {
   "cell_type": "code",
   "execution_count": 115,
   "metadata": {},
   "outputs": [
    {
     "data": {
      "text/plain": [
       "[<matplotlib.lines.Line2D at 0x7f9735f0ae50>]"
      ]
     },
     "execution_count": 115,
     "metadata": {},
     "output_type": "execute_result"
    },
    {
     "data": {
      "image/png": "[encoded data removed]",
      "text/plain": [
       "<Figure size 432x288 with 1 Axes>"
      ]
     },
     "metadata": {
      "needs_background": "light"
     },
     "output_type": "display_data"
    }
   ],
   "source": [
    "plt.plot(v0)"
   ]
  },
  {
   "cell_type": "code",
   "execution_count": 116,
   "metadata": {},
   "outputs": [
    {
     "data": {
      "text/plain": [
       "[<matplotlib.lines.Line2D at 0x7f9735876640>]"
      ]
     },
     "execution_count": 116,
     "metadata": {},
     "output_type": "execute_result"
    },
    {
     "data": {
      "image/png": "[encoded data removed]",
      "text/plain": [
       "<Figure size 432x288 with 1 Axes>"
      ]
     },
     "metadata": {
      "needs_background": "light"
     },
     "output_type": "display_data"
    }
   ],
   "source": [
    "plt.plot(pos)"
   ]
  },
  {
   "cell_type": "code",
   "execution_count": 117,
   "metadata": {},
   "outputs": [
    {
     "data": {
      "text/plain": [
       "[<matplotlib.lines.Line2D at 0x7f9735c09b20>]"
      ]
     },
     "execution_count": 117,
     "metadata": {},
     "output_type": "execute_result"
    },
    {
     "data": {
      "image/png": "[encoded data removed]",
      "text/plain": [
       "<Figure size 432x288 with 1 Axes>"
      ]
     },
     "metadata": {
      "needs_background": "light"
     },
     "output_type": "display_data"
    }
   ],
   "source": [
    "plt.plot(pos0)"
   ]
  },
  {
   "cell_type": "code",
   "execution_count": 118,
   "metadata": {},
   "outputs": [
    {
     "data": {
      "text/plain": [
       "[<matplotlib.lines.Line2D at 0x7f97361f4eb0>]"
      ]
     },
     "execution_count": 118,
     "metadata": {},
     "output_type": "execute_result"
    },
    {
     "data": {
      "image/png": "[encoded data removed]",
      "text/plain": [
       "<Figure size 432x288 with 1 Axes>"
      ]
     },
     "metadata": {
      "needs_background": "light"
     },
     "output_type": "display_data"
    }
   ],
   "source": [
    "plt.plot(F_)"
   ]
  },
  {
   "cell_type": "code",
   "execution_count": 119,
   "metadata": {},
   "outputs": [
    {
     "data": {
      "text/plain": [
       "[<matplotlib.lines.Line2D at 0x7f97362f4190>]"
      ]
     },
     "execution_count": 119,
     "metadata": {},
     "output_type": "execute_result"
    },
    {
     "data": {
      "image/png": "[encoded data removed]",
      "text/plain": [
       "<Figure size 432x288 with 1 Axes>"
      ]
     },
     "metadata": {
      "needs_background": "light"
     },
     "output_type": "display_data"
    }
   ],
   "source": [
    "plt.plot(F0_)"
   ]
  },
  {
   "cell_type": "code",
   "execution_count": 120,
   "metadata": {},
   "outputs": [
    {
     "data": {
      "text/plain": [
       "DM(234.34)"
      ]
     },
     "execution_count": 120,
     "metadata": {},
     "output_type": "execute_result"
    }
   ],
   "source": [
    "sol[\"f\"]"
   ]
  },
  {
   "cell_type": "code",
   "execution_count": null,
   "metadata": {},
   "outputs": [],
   "source": []
  }
 ],
 "metadata": {
  "interpreter": {
   "hash": "aee8b7b246df8f9039afb4144a1f6fd8d2ca17a180786b69acc140d282b71a49"
  },
  "kernelspec": {
   "display_name": "Python 3.8.7 64-bit",
   "language": "python",
   "name": "python3"
  },
  "language_info": {
   "codemirror_mode": {
    "name": "ipython",
    "version": 3
   },
   "file_extension": ".py",
   "mimetype": "text/x-python",
   "name": "python",
   "nbconvert_exporter": "python",
   "pygments_lexer": "ipython3",
   "version": "3.8.7"
  },
  "orig_nbformat": 4
 },
 "nbformat": 4,
 "nbformat_minor": 2
}
